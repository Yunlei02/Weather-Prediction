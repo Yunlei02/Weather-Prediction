{
 "cells": [
  {
   "cell_type": "code",
   "execution_count": 1,
   "id": "7afb81c2",
   "metadata": {},
   "outputs": [],
   "source": [
    "import pandas as pd"
   ]
  },
  {
   "cell_type": "code",
   "execution_count": 2,
   "id": "426acafa",
   "metadata": {},
   "outputs": [],
   "source": [
    "data = pd.read_csv('/Users/yunlei/Desktop/MGMT 478/Combined dataset_nonsort.csv')"
   ]
  },
  {
   "cell_type": "code",
   "execution_count": 3,
   "id": "c3b675bb",
   "metadata": {},
   "outputs": [
    {
     "data": {
      "text/html": [
       "<div>\n",
       "<style scoped>\n",
       "    .dataframe tbody tr th:only-of-type {\n",
       "        vertical-align: middle;\n",
       "    }\n",
       "\n",
       "    .dataframe tbody tr th {\n",
       "        vertical-align: top;\n",
       "    }\n",
       "\n",
       "    .dataframe thead th {\n",
       "        text-align: right;\n",
       "    }\n",
       "</style>\n",
       "<table border=\"1\" class=\"dataframe\">\n",
       "  <thead>\n",
       "    <tr style=\"text-align: right;\">\n",
       "      <th></th>\n",
       "      <th>STATION</th>\n",
       "      <th>NAME</th>\n",
       "      <th>LATITUDE</th>\n",
       "      <th>LONGITUDE</th>\n",
       "      <th>ELEVATION</th>\n",
       "      <th>DATE</th>\n",
       "      <th>AWND</th>\n",
       "      <th>PRCP</th>\n",
       "      <th>SNOW</th>\n",
       "      <th>TAVG</th>\n",
       "      <th>TMAX</th>\n",
       "      <th>TMIN</th>\n",
       "    </tr>\n",
       "  </thead>\n",
       "  <tbody>\n",
       "    <tr>\n",
       "      <th>0</th>\n",
       "      <td>USW00014835</td>\n",
       "      <td>LAFAYETTE PURDUE UNIVERSITY AIRPORT, IN US</td>\n",
       "      <td>40.41236</td>\n",
       "      <td>-86.94739</td>\n",
       "      <td>181.7</td>\n",
       "      <td>2010-01</td>\n",
       "      <td>8.5</td>\n",
       "      <td>1.01</td>\n",
       "      <td>NaN</td>\n",
       "      <td>23.5</td>\n",
       "      <td>29.5</td>\n",
       "      <td>17.5</td>\n",
       "    </tr>\n",
       "    <tr>\n",
       "      <th>1</th>\n",
       "      <td>USW00014835</td>\n",
       "      <td>LAFAYETTE PURDUE UNIVERSITY AIRPORT, IN US</td>\n",
       "      <td>40.41236</td>\n",
       "      <td>-86.94739</td>\n",
       "      <td>181.7</td>\n",
       "      <td>2010-02</td>\n",
       "      <td>7.6</td>\n",
       "      <td>0.61</td>\n",
       "      <td>NaN</td>\n",
       "      <td>26</td>\n",
       "      <td>32.8</td>\n",
       "      <td>19.1</td>\n",
       "    </tr>\n",
       "    <tr>\n",
       "      <th>2</th>\n",
       "      <td>USW00014835</td>\n",
       "      <td>LAFAYETTE PURDUE UNIVERSITY AIRPORT, IN US</td>\n",
       "      <td>40.41236</td>\n",
       "      <td>-86.94739</td>\n",
       "      <td>181.7</td>\n",
       "      <td>2010-03</td>\n",
       "      <td>7.2</td>\n",
       "      <td>3.22</td>\n",
       "      <td>NaN</td>\n",
       "      <td>44.8</td>\n",
       "      <td>55.1</td>\n",
       "      <td>34.6</td>\n",
       "    </tr>\n",
       "    <tr>\n",
       "      <th>3</th>\n",
       "      <td>USW00014835</td>\n",
       "      <td>LAFAYETTE PURDUE UNIVERSITY AIRPORT, IN US</td>\n",
       "      <td>40.41236</td>\n",
       "      <td>-86.94739</td>\n",
       "      <td>181.7</td>\n",
       "      <td>2010-04</td>\n",
       "      <td>8.1</td>\n",
       "      <td>2.49</td>\n",
       "      <td>NaN</td>\n",
       "      <td>58.1</td>\n",
       "      <td>70.4</td>\n",
       "      <td>45.8</td>\n",
       "    </tr>\n",
       "    <tr>\n",
       "      <th>4</th>\n",
       "      <td>USW00014835</td>\n",
       "      <td>LAFAYETTE PURDUE UNIVERSITY AIRPORT, IN US</td>\n",
       "      <td>40.41236</td>\n",
       "      <td>-86.94739</td>\n",
       "      <td>181.7</td>\n",
       "      <td>2010-05</td>\n",
       "      <td>6.7</td>\n",
       "      <td>5.55</td>\n",
       "      <td>NaN</td>\n",
       "      <td>64.7</td>\n",
       "      <td>75.2</td>\n",
       "      <td>54.2</td>\n",
       "    </tr>\n",
       "  </tbody>\n",
       "</table>\n",
       "</div>"
      ],
      "text/plain": [
       "       STATION                                        NAME  LATITUDE  \\\n",
       "0  USW00014835  LAFAYETTE PURDUE UNIVERSITY AIRPORT, IN US  40.41236   \n",
       "1  USW00014835  LAFAYETTE PURDUE UNIVERSITY AIRPORT, IN US  40.41236   \n",
       "2  USW00014835  LAFAYETTE PURDUE UNIVERSITY AIRPORT, IN US  40.41236   \n",
       "3  USW00014835  LAFAYETTE PURDUE UNIVERSITY AIRPORT, IN US  40.41236   \n",
       "4  USW00014835  LAFAYETTE PURDUE UNIVERSITY AIRPORT, IN US  40.41236   \n",
       "\n",
       "   LONGITUDE  ELEVATION     DATE  AWND  PRCP  SNOW  TAVG  TMAX  TMIN  \n",
       "0  -86.94739      181.7  2010-01   8.5  1.01   NaN  23.5  29.5  17.5  \n",
       "1  -86.94739      181.7  2010-02   7.6  0.61   NaN    26  32.8  19.1  \n",
       "2  -86.94739      181.7  2010-03   7.2  3.22   NaN  44.8  55.1  34.6  \n",
       "3  -86.94739      181.7  2010-04   8.1  2.49   NaN  58.1  70.4  45.8  \n",
       "4  -86.94739      181.7  2010-05   6.7  5.55   NaN  64.7  75.2  54.2  "
      ]
     },
     "execution_count": 3,
     "metadata": {},
     "output_type": "execute_result"
    }
   ],
   "source": [
    "data.head()"
   ]
  },
  {
   "cell_type": "code",
   "execution_count": 4,
   "id": "02f7d424",
   "metadata": {},
   "outputs": [],
   "source": [
    "data['DATE'] = pd.to_datetime(data['DATE'])\n",
    "data['YEAR'] = data['DATE'].dt.year\n",
    "data['MONTH'] = data['DATE'].dt.month"
   ]
  },
  {
   "cell_type": "code",
   "execution_count": 5,
   "id": "b01d5ac2",
   "metadata": {},
   "outputs": [],
   "source": [
    "station_unique = data['STATION'].unique().tolist()"
   ]
  },
  {
   "cell_type": "code",
   "execution_count": 6,
   "id": "fd6350e5",
   "metadata": {},
   "outputs": [],
   "source": [
    "data = data[['STATION','NAME','YEAR','MONTH','PRCP']]"
   ]
  },
  {
   "cell_type": "code",
   "execution_count": 7,
   "id": "5300710b",
   "metadata": {},
   "outputs": [
    {
     "data": {
      "text/plain": [
       "STATION    0\n",
       "NAME       0\n",
       "YEAR       0\n",
       "MONTH      0\n",
       "PRCP       8\n",
       "dtype: int64"
      ]
     },
     "execution_count": 7,
     "metadata": {},
     "output_type": "execute_result"
    }
   ],
   "source": [
    "data.isnull().sum()"
   ]
  },
  {
   "cell_type": "code",
   "execution_count": 8,
   "id": "d327003e",
   "metadata": {},
   "outputs": [],
   "source": [
    "from sklearn.impute import SimpleImputer\n",
    "imputer = SimpleImputer(strategy='median')\n",
    "data[['PRCP']] = imputer.fit_transform(data[['PRCP']])"
   ]
  },
  {
   "cell_type": "code",
   "execution_count": 9,
   "id": "f2b71b1f",
   "metadata": {},
   "outputs": [
    {
     "data": {
      "text/plain": [
       "STATION    0\n",
       "NAME       0\n",
       "YEAR       0\n",
       "MONTH      0\n",
       "PRCP       0\n",
       "dtype: int64"
      ]
     },
     "execution_count": 9,
     "metadata": {},
     "output_type": "execute_result"
    }
   ],
   "source": [
    "data.isnull().sum()"
   ]
  },
  {
   "cell_type": "code",
   "execution_count": 10,
   "id": "9963b9b8",
   "metadata": {},
   "outputs": [],
   "source": [
    "weather_station_data = data[data['STATION']== 'USW00014835']"
   ]
  },
  {
   "cell_type": "code",
   "execution_count": 11,
   "id": "5b2816a0",
   "metadata": {},
   "outputs": [
    {
     "data": {
      "text/html": [
       "<div>\n",
       "<style scoped>\n",
       "    .dataframe tbody tr th:only-of-type {\n",
       "        vertical-align: middle;\n",
       "    }\n",
       "\n",
       "    .dataframe tbody tr th {\n",
       "        vertical-align: top;\n",
       "    }\n",
       "\n",
       "    .dataframe thead th {\n",
       "        text-align: right;\n",
       "    }\n",
       "</style>\n",
       "<table border=\"1\" class=\"dataframe\">\n",
       "  <thead>\n",
       "    <tr style=\"text-align: right;\">\n",
       "      <th></th>\n",
       "      <th>STATION</th>\n",
       "      <th>NAME</th>\n",
       "      <th>YEAR</th>\n",
       "      <th>MONTH</th>\n",
       "      <th>PRCP</th>\n",
       "    </tr>\n",
       "  </thead>\n",
       "  <tbody>\n",
       "    <tr>\n",
       "      <th>0</th>\n",
       "      <td>USW00014835</td>\n",
       "      <td>LAFAYETTE PURDUE UNIVERSITY AIRPORT, IN US</td>\n",
       "      <td>2010</td>\n",
       "      <td>1</td>\n",
       "      <td>1.01</td>\n",
       "    </tr>\n",
       "    <tr>\n",
       "      <th>1</th>\n",
       "      <td>USW00014835</td>\n",
       "      <td>LAFAYETTE PURDUE UNIVERSITY AIRPORT, IN US</td>\n",
       "      <td>2010</td>\n",
       "      <td>2</td>\n",
       "      <td>0.61</td>\n",
       "    </tr>\n",
       "    <tr>\n",
       "      <th>2</th>\n",
       "      <td>USW00014835</td>\n",
       "      <td>LAFAYETTE PURDUE UNIVERSITY AIRPORT, IN US</td>\n",
       "      <td>2010</td>\n",
       "      <td>3</td>\n",
       "      <td>3.22</td>\n",
       "    </tr>\n",
       "    <tr>\n",
       "      <th>3</th>\n",
       "      <td>USW00014835</td>\n",
       "      <td>LAFAYETTE PURDUE UNIVERSITY AIRPORT, IN US</td>\n",
       "      <td>2010</td>\n",
       "      <td>4</td>\n",
       "      <td>2.49</td>\n",
       "    </tr>\n",
       "    <tr>\n",
       "      <th>4</th>\n",
       "      <td>USW00014835</td>\n",
       "      <td>LAFAYETTE PURDUE UNIVERSITY AIRPORT, IN US</td>\n",
       "      <td>2010</td>\n",
       "      <td>5</td>\n",
       "      <td>5.55</td>\n",
       "    </tr>\n",
       "    <tr>\n",
       "      <th>...</th>\n",
       "      <td>...</td>\n",
       "      <td>...</td>\n",
       "      <td>...</td>\n",
       "      <td>...</td>\n",
       "      <td>...</td>\n",
       "    </tr>\n",
       "    <tr>\n",
       "      <th>163</th>\n",
       "      <td>USW00014835</td>\n",
       "      <td>LAFAYETTE PURDUE UNIVERSITY AIRPORT, IN US</td>\n",
       "      <td>2023</td>\n",
       "      <td>8</td>\n",
       "      <td>3.54</td>\n",
       "    </tr>\n",
       "    <tr>\n",
       "      <th>164</th>\n",
       "      <td>USW00014835</td>\n",
       "      <td>LAFAYETTE PURDUE UNIVERSITY AIRPORT, IN US</td>\n",
       "      <td>2023</td>\n",
       "      <td>9</td>\n",
       "      <td>0.59</td>\n",
       "    </tr>\n",
       "    <tr>\n",
       "      <th>165</th>\n",
       "      <td>USW00014835</td>\n",
       "      <td>LAFAYETTE PURDUE UNIVERSITY AIRPORT, IN US</td>\n",
       "      <td>2023</td>\n",
       "      <td>10</td>\n",
       "      <td>3.21</td>\n",
       "    </tr>\n",
       "    <tr>\n",
       "      <th>166</th>\n",
       "      <td>USW00014835</td>\n",
       "      <td>LAFAYETTE PURDUE UNIVERSITY AIRPORT, IN US</td>\n",
       "      <td>2023</td>\n",
       "      <td>11</td>\n",
       "      <td>0.48</td>\n",
       "    </tr>\n",
       "    <tr>\n",
       "      <th>167</th>\n",
       "      <td>USW00014835</td>\n",
       "      <td>LAFAYETTE PURDUE UNIVERSITY AIRPORT, IN US</td>\n",
       "      <td>2023</td>\n",
       "      <td>12</td>\n",
       "      <td>2.48</td>\n",
       "    </tr>\n",
       "  </tbody>\n",
       "</table>\n",
       "<p>168 rows × 5 columns</p>\n",
       "</div>"
      ],
      "text/plain": [
       "         STATION                                        NAME  YEAR  MONTH  \\\n",
       "0    USW00014835  LAFAYETTE PURDUE UNIVERSITY AIRPORT, IN US  2010      1   \n",
       "1    USW00014835  LAFAYETTE PURDUE UNIVERSITY AIRPORT, IN US  2010      2   \n",
       "2    USW00014835  LAFAYETTE PURDUE UNIVERSITY AIRPORT, IN US  2010      3   \n",
       "3    USW00014835  LAFAYETTE PURDUE UNIVERSITY AIRPORT, IN US  2010      4   \n",
       "4    USW00014835  LAFAYETTE PURDUE UNIVERSITY AIRPORT, IN US  2010      5   \n",
       "..           ...                                         ...   ...    ...   \n",
       "163  USW00014835  LAFAYETTE PURDUE UNIVERSITY AIRPORT, IN US  2023      8   \n",
       "164  USW00014835  LAFAYETTE PURDUE UNIVERSITY AIRPORT, IN US  2023      9   \n",
       "165  USW00014835  LAFAYETTE PURDUE UNIVERSITY AIRPORT, IN US  2023     10   \n",
       "166  USW00014835  LAFAYETTE PURDUE UNIVERSITY AIRPORT, IN US  2023     11   \n",
       "167  USW00014835  LAFAYETTE PURDUE UNIVERSITY AIRPORT, IN US  2023     12   \n",
       "\n",
       "     PRCP  \n",
       "0    1.01  \n",
       "1    0.61  \n",
       "2    3.22  \n",
       "3    2.49  \n",
       "4    5.55  \n",
       "..    ...  \n",
       "163  3.54  \n",
       "164  0.59  \n",
       "165  3.21  \n",
       "166  0.48  \n",
       "167  2.48  \n",
       "\n",
       "[168 rows x 5 columns]"
      ]
     },
     "execution_count": 11,
     "metadata": {},
     "output_type": "execute_result"
    }
   ],
   "source": [
    "weather_station_data"
   ]
  },
  {
   "cell_type": "code",
   "execution_count": 12,
   "id": "cd86e689",
   "metadata": {},
   "outputs": [
    {
     "name": "stderr",
     "output_type": "stream",
     "text": [
      "/var/folders/cr/ls79phkx4vb_rmnkc6h2ddqh0000gn/T/ipykernel_68278/1927566781.py:1: SettingWithCopyWarning: \n",
      "A value is trying to be set on a copy of a slice from a DataFrame.\n",
      "Try using .loc[row_indexer,col_indexer] = value instead\n",
      "\n",
      "See the caveats in the documentation: https://pandas.pydata.org/pandas-docs/stable/user_guide/indexing.html#returning-a-view-versus-a-copy\n",
      "  weather_station_data['PRCP_lag_1_year'] = weather_station_data['PRCP'].shift(12)\n"
     ]
    }
   ],
   "source": [
    "weather_station_data['PRCP_lag_1_year'] = weather_station_data['PRCP'].shift(12)"
   ]
  },
  {
   "cell_type": "code",
   "execution_count": 13,
   "id": "77db4471",
   "metadata": {},
   "outputs": [],
   "source": [
    "df = weather_station_data[(weather_station_data['YEAR'] >= 2015) & (weather_station_data['YEAR'] <= 2023)]"
   ]
  },
  {
   "cell_type": "code",
   "execution_count": 14,
   "id": "46b01f9d",
   "metadata": {},
   "outputs": [
    {
     "name": "stdout",
     "output_type": "stream",
     "text": [
      "5.04803888888889\n"
     ]
    }
   ],
   "source": [
    "from sklearn.metrics import mean_squared_error\n",
    "mse = mean_squared_error(df['PRCP'], df['PRCP_lag_1_year'])\n",
    "print(mse)"
   ]
  },
  {
   "cell_type": "code",
   "execution_count": 15,
   "id": "7d687ab1",
   "metadata": {},
   "outputs": [],
   "source": [
    "def get_basic_model_data(weather_station):\n",
    "    '''\n",
    "    From 2015 to 2023, actual data from last year was used as the precipitation projection for next year, \n",
    "    and then compared to this year's actual data to derive the mse.\n",
    "    '''\n",
    "    weather_station_data = data[data['STATION']== weather_station]\n",
    "    weather_station_data['PRCP_lag_1_year'] = weather_station_data['PRCP'].shift(12)\n",
    "    df=weather_station_data[weather_station_data['YEAR']>=2015]\n",
    "    mse = mean_squared_error(df['PRCP'], df['PRCP_lag_1_year'])\n",
    "    return mse"
   ]
  },
  {
   "cell_type": "code",
   "execution_count": 16,
   "id": "104b4cb7",
   "metadata": {},
   "outputs": [
    {
     "name": "stderr",
     "output_type": "stream",
     "text": [
      "/var/folders/cr/ls79phkx4vb_rmnkc6h2ddqh0000gn/T/ipykernel_68278/4065321984.py:7: SettingWithCopyWarning: \n",
      "A value is trying to be set on a copy of a slice from a DataFrame.\n",
      "Try using .loc[row_indexer,col_indexer] = value instead\n",
      "\n",
      "See the caveats in the documentation: https://pandas.pydata.org/pandas-docs/stable/user_guide/indexing.html#returning-a-view-versus-a-copy\n",
      "  weather_station_data['PRCP_lag_1_year'] = weather_station_data['PRCP'].shift(12)\n"
     ]
    },
    {
     "data": {
      "text/plain": [
       "5.04803888888889"
      ]
     },
     "execution_count": 16,
     "metadata": {},
     "output_type": "execute_result"
    }
   ],
   "source": [
    "get_basic_model_data('USW00014835')"
   ]
  },
  {
   "cell_type": "code",
   "execution_count": 17,
   "id": "2517f006",
   "metadata": {},
   "outputs": [],
   "source": [
    "station_counts = data.groupby('STATION').size()"
   ]
  },
  {
   "cell_type": "code",
   "execution_count": 18,
   "id": "36bef755",
   "metadata": {},
   "outputs": [],
   "source": [
    "stations_with_enough_records = station_counts[station_counts >= 167].index"
   ]
  },
  {
   "cell_type": "code",
   "execution_count": 19,
   "id": "9a5ede2f",
   "metadata": {},
   "outputs": [],
   "source": [
    "valid_stations = data[\n",
    "    (data['YEAR'] == 2010) & \n",
    "    (data['STATION'].isin(stations_with_enough_records))\n",
    "][['STATION', 'NAME']].drop_duplicates()"
   ]
  },
  {
   "cell_type": "code",
   "execution_count": 20,
   "id": "32e3d3e5",
   "metadata": {},
   "outputs": [
    {
     "data": {
      "text/html": [
       "<div>\n",
       "<style scoped>\n",
       "    .dataframe tbody tr th:only-of-type {\n",
       "        vertical-align: middle;\n",
       "    }\n",
       "\n",
       "    .dataframe tbody tr th {\n",
       "        vertical-align: top;\n",
       "    }\n",
       "\n",
       "    .dataframe thead th {\n",
       "        text-align: right;\n",
       "    }\n",
       "</style>\n",
       "<table border=\"1\" class=\"dataframe\">\n",
       "  <thead>\n",
       "    <tr style=\"text-align: right;\">\n",
       "      <th></th>\n",
       "      <th>STATION</th>\n",
       "      <th>NAME</th>\n",
       "    </tr>\n",
       "  </thead>\n",
       "  <tbody>\n",
       "    <tr>\n",
       "      <th>0</th>\n",
       "      <td>USW00014835</td>\n",
       "      <td>LAFAYETTE PURDUE UNIVERSITY AIRPORT, IN US</td>\n",
       "    </tr>\n",
       "    <tr>\n",
       "      <th>168</th>\n",
       "      <td>USW00014848</td>\n",
       "      <td>SOUTH BEND AIRPORT, IN US</td>\n",
       "    </tr>\n",
       "    <tr>\n",
       "      <th>336</th>\n",
       "      <td>USC00120784</td>\n",
       "      <td>BLOOMINGTON INDIANA UNIVERSITY, IN US</td>\n",
       "    </tr>\n",
       "    <tr>\n",
       "      <th>503</th>\n",
       "      <td>USW00014827</td>\n",
       "      <td>FORT WAYNE INTERNATIONAL AIRPORT, IN US</td>\n",
       "    </tr>\n",
       "    <tr>\n",
       "      <th>671</th>\n",
       "      <td>USW00093819</td>\n",
       "      <td>INDIANAPOLIS INTERNATIONAL AIRPORT, IN US</td>\n",
       "    </tr>\n",
       "    <tr>\n",
       "      <th>839</th>\n",
       "      <td>USW00053866</td>\n",
       "      <td>SHELBYVILLE MUNICIPAL AIRPORT, IN US</td>\n",
       "    </tr>\n",
       "    <tr>\n",
       "      <th>1007</th>\n",
       "      <td>USW00093810</td>\n",
       "      <td>CARBONDALE SOUTHERN ILLINOIS AIRPORT, IL US</td>\n",
       "    </tr>\n",
       "    <tr>\n",
       "      <th>1176</th>\n",
       "      <td>USW00094892</td>\n",
       "      <td>CHICAGO WEST CHICAGO DUPAGE AIRPORT, IL US</td>\n",
       "    </tr>\n",
       "    <tr>\n",
       "      <th>1345</th>\n",
       "      <td>USW00094846</td>\n",
       "      <td>CHICAGO OHARE INTERNATIONAL AIRPORT, IL US</td>\n",
       "    </tr>\n",
       "    <tr>\n",
       "      <th>1514</th>\n",
       "      <td>USC00114355</td>\n",
       "      <td>ILLINOIS CITY DAM 16, IL US</td>\n",
       "    </tr>\n",
       "    <tr>\n",
       "      <th>2405</th>\n",
       "      <td>USW00023174</td>\n",
       "      <td>LOS ANGELES INTERNATIONAL AIRPORT, CA US</td>\n",
       "    </tr>\n",
       "    <tr>\n",
       "      <th>2574</th>\n",
       "      <td>USW00023234</td>\n",
       "      <td>SAN FRANCISCO INTERNATIONAL AIRPORT, CA US</td>\n",
       "    </tr>\n",
       "    <tr>\n",
       "      <th>2743</th>\n",
       "      <td>USW00023188</td>\n",
       "      <td>SAN DIEGO INTERNATIONAL AIRPORT, CA US</td>\n",
       "    </tr>\n",
       "    <tr>\n",
       "      <th>2912</th>\n",
       "      <td>USW00093225</td>\n",
       "      <td>SACRAMENTO METROPOLITAN AIRPORT, CA US</td>\n",
       "    </tr>\n",
       "    <tr>\n",
       "      <th>3081</th>\n",
       "      <td>USW00093193</td>\n",
       "      <td>FRESNO YOSEMITE INTERNATIONAL, CA US</td>\n",
       "    </tr>\n",
       "  </tbody>\n",
       "</table>\n",
       "</div>"
      ],
      "text/plain": [
       "          STATION                                         NAME\n",
       "0     USW00014835   LAFAYETTE PURDUE UNIVERSITY AIRPORT, IN US\n",
       "168   USW00014848                    SOUTH BEND AIRPORT, IN US\n",
       "336   USC00120784        BLOOMINGTON INDIANA UNIVERSITY, IN US\n",
       "503   USW00014827      FORT WAYNE INTERNATIONAL AIRPORT, IN US\n",
       "671   USW00093819    INDIANAPOLIS INTERNATIONAL AIRPORT, IN US\n",
       "839   USW00053866         SHELBYVILLE MUNICIPAL AIRPORT, IN US\n",
       "1007  USW00093810  CARBONDALE SOUTHERN ILLINOIS AIRPORT, IL US\n",
       "1176  USW00094892   CHICAGO WEST CHICAGO DUPAGE AIRPORT, IL US\n",
       "1345  USW00094846   CHICAGO OHARE INTERNATIONAL AIRPORT, IL US\n",
       "1514  USC00114355                  ILLINOIS CITY DAM 16, IL US\n",
       "2405  USW00023174     LOS ANGELES INTERNATIONAL AIRPORT, CA US\n",
       "2574  USW00023234   SAN FRANCISCO INTERNATIONAL AIRPORT, CA US\n",
       "2743  USW00023188       SAN DIEGO INTERNATIONAL AIRPORT, CA US\n",
       "2912  USW00093225       SACRAMENTO METROPOLITAN AIRPORT, CA US\n",
       "3081  USW00093193         FRESNO YOSEMITE INTERNATIONAL, CA US"
      ]
     },
     "execution_count": 20,
     "metadata": {},
     "output_type": "execute_result"
    }
   ],
   "source": [
    "valid_stations"
   ]
  },
  {
   "cell_type": "code",
   "execution_count": 21,
   "id": "1e44b7bf",
   "metadata": {},
   "outputs": [],
   "source": [
    "valid_stations['overall_mse'] = valid_stations.apply(lambda row: get_basic_model_data(row['STATION']), axis=1)"
   ]
  },
  {
   "cell_type": "code",
   "execution_count": 22,
   "id": "359a9b37",
   "metadata": {},
   "outputs": [
    {
     "data": {
      "text/html": [
       "<div>\n",
       "<style scoped>\n",
       "    .dataframe tbody tr th:only-of-type {\n",
       "        vertical-align: middle;\n",
       "    }\n",
       "\n",
       "    .dataframe tbody tr th {\n",
       "        vertical-align: top;\n",
       "    }\n",
       "\n",
       "    .dataframe thead th {\n",
       "        text-align: right;\n",
       "    }\n",
       "</style>\n",
       "<table border=\"1\" class=\"dataframe\">\n",
       "  <thead>\n",
       "    <tr style=\"text-align: right;\">\n",
       "      <th></th>\n",
       "      <th>STATION</th>\n",
       "      <th>NAME</th>\n",
       "      <th>overall_mse</th>\n",
       "    </tr>\n",
       "  </thead>\n",
       "  <tbody>\n",
       "    <tr>\n",
       "      <th>0</th>\n",
       "      <td>USW00014835</td>\n",
       "      <td>LAFAYETTE PURDUE UNIVERSITY AIRPORT, IN US</td>\n",
       "      <td>5.048039</td>\n",
       "    </tr>\n",
       "    <tr>\n",
       "      <th>168</th>\n",
       "      <td>USW00014848</td>\n",
       "      <td>SOUTH BEND AIRPORT, IN US</td>\n",
       "      <td>7.061131</td>\n",
       "    </tr>\n",
       "    <tr>\n",
       "      <th>336</th>\n",
       "      <td>USC00120784</td>\n",
       "      <td>BLOOMINGTON INDIANA UNIVERSITY, IN US</td>\n",
       "      <td>9.840054</td>\n",
       "    </tr>\n",
       "    <tr>\n",
       "      <th>503</th>\n",
       "      <td>USW00014827</td>\n",
       "      <td>FORT WAYNE INTERNATIONAL AIRPORT, IN US</td>\n",
       "      <td>4.807214</td>\n",
       "    </tr>\n",
       "    <tr>\n",
       "      <th>671</th>\n",
       "      <td>USW00093819</td>\n",
       "      <td>INDIANAPOLIS INTERNATIONAL AIRPORT, IN US</td>\n",
       "      <td>7.476287</td>\n",
       "    </tr>\n",
       "    <tr>\n",
       "      <th>839</th>\n",
       "      <td>USW00053866</td>\n",
       "      <td>SHELBYVILLE MUNICIPAL AIRPORT, IN US</td>\n",
       "      <td>5.770738</td>\n",
       "    </tr>\n",
       "    <tr>\n",
       "      <th>1007</th>\n",
       "      <td>USW00093810</td>\n",
       "      <td>CARBONDALE SOUTHERN ILLINOIS AIRPORT, IL US</td>\n",
       "      <td>8.369791</td>\n",
       "    </tr>\n",
       "    <tr>\n",
       "      <th>1176</th>\n",
       "      <td>USW00094892</td>\n",
       "      <td>CHICAGO WEST CHICAGO DUPAGE AIRPORT, IL US</td>\n",
       "      <td>5.383623</td>\n",
       "    </tr>\n",
       "    <tr>\n",
       "      <th>1345</th>\n",
       "      <td>USW00094846</td>\n",
       "      <td>CHICAGO OHARE INTERNATIONAL AIRPORT, IL US</td>\n",
       "      <td>6.477995</td>\n",
       "    </tr>\n",
       "    <tr>\n",
       "      <th>1514</th>\n",
       "      <td>USC00114355</td>\n",
       "      <td>ILLINOIS CITY DAM 16, IL US</td>\n",
       "      <td>5.635398</td>\n",
       "    </tr>\n",
       "    <tr>\n",
       "      <th>2405</th>\n",
       "      <td>USW00023174</td>\n",
       "      <td>LOS ANGELES INTERNATIONAL AIRPORT, CA US</td>\n",
       "      <td>4.424660</td>\n",
       "    </tr>\n",
       "    <tr>\n",
       "      <th>2574</th>\n",
       "      <td>USW00023234</td>\n",
       "      <td>SAN FRANCISCO INTERNATIONAL AIRPORT, CA US</td>\n",
       "      <td>7.138362</td>\n",
       "    </tr>\n",
       "    <tr>\n",
       "      <th>2743</th>\n",
       "      <td>USW00023188</td>\n",
       "      <td>SAN DIEGO INTERNATIONAL AIRPORT, CA US</td>\n",
       "      <td>2.174784</td>\n",
       "    </tr>\n",
       "    <tr>\n",
       "      <th>2912</th>\n",
       "      <td>USW00093225</td>\n",
       "      <td>SACRAMENTO METROPOLITAN AIRPORT, CA US</td>\n",
       "      <td>6.179782</td>\n",
       "    </tr>\n",
       "    <tr>\n",
       "      <th>3081</th>\n",
       "      <td>USW00093193</td>\n",
       "      <td>FRESNO YOSEMITE INTERNATIONAL, CA US</td>\n",
       "      <td>2.245106</td>\n",
       "    </tr>\n",
       "  </tbody>\n",
       "</table>\n",
       "</div>"
      ],
      "text/plain": [
       "          STATION                                         NAME  overall_mse\n",
       "0     USW00014835   LAFAYETTE PURDUE UNIVERSITY AIRPORT, IN US     5.048039\n",
       "168   USW00014848                    SOUTH BEND AIRPORT, IN US     7.061131\n",
       "336   USC00120784        BLOOMINGTON INDIANA UNIVERSITY, IN US     9.840054\n",
       "503   USW00014827      FORT WAYNE INTERNATIONAL AIRPORT, IN US     4.807214\n",
       "671   USW00093819    INDIANAPOLIS INTERNATIONAL AIRPORT, IN US     7.476287\n",
       "839   USW00053866         SHELBYVILLE MUNICIPAL AIRPORT, IN US     5.770738\n",
       "1007  USW00093810  CARBONDALE SOUTHERN ILLINOIS AIRPORT, IL US     8.369791\n",
       "1176  USW00094892   CHICAGO WEST CHICAGO DUPAGE AIRPORT, IL US     5.383623\n",
       "1345  USW00094846   CHICAGO OHARE INTERNATIONAL AIRPORT, IL US     6.477995\n",
       "1514  USC00114355                  ILLINOIS CITY DAM 16, IL US     5.635398\n",
       "2405  USW00023174     LOS ANGELES INTERNATIONAL AIRPORT, CA US     4.424660\n",
       "2574  USW00023234   SAN FRANCISCO INTERNATIONAL AIRPORT, CA US     7.138362\n",
       "2743  USW00023188       SAN DIEGO INTERNATIONAL AIRPORT, CA US     2.174784\n",
       "2912  USW00093225       SACRAMENTO METROPOLITAN AIRPORT, CA US     6.179782\n",
       "3081  USW00093193         FRESNO YOSEMITE INTERNATIONAL, CA US     2.245106"
      ]
     },
     "execution_count": 22,
     "metadata": {},
     "output_type": "execute_result"
    }
   ],
   "source": [
    "valid_stations"
   ]
  }
 ],
 "metadata": {
  "kernelspec": {
   "display_name": "Python 3 (ipykernel)",
   "language": "python",
   "name": "python3"
  },
  "language_info": {
   "codemirror_mode": {
    "name": "ipython",
    "version": 3
   },
   "file_extension": ".py",
   "mimetype": "text/x-python",
   "name": "python",
   "nbconvert_exporter": "python",
   "pygments_lexer": "ipython3",
   "version": "3.9.13"
  }
 },
 "nbformat": 4,
 "nbformat_minor": 5
}
